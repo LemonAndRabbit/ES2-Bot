{
 "cells": [
  {
   "cell_type": "code",
   "execution_count": null,
   "metadata": {},
   "outputs": [],
   "source": [
    "import sys\n",
    "sys.path.append('..')\n",
    "\n",
    "from utils.parse_cfg import parse_cfg\n",
    "from google_sheet.io import get_from_sheet\n",
    "import plotly.graph_objects as go\n",
    "import datetime\n",
    "from itertools import chain\n",
    "\n",
    "import numpy as np"
   ]
  },
  {
   "cell_type": "markdown",
   "metadata": {},
   "source": [
    "## Access Raw Data"
   ]
  },
  {
   "cell_type": "code",
   "execution_count": null,
   "metadata": {},
   "outputs": [],
   "source": [
    "config = parse_cfg('../temp/config.json')\n",
    "\n",
    "summary_names = get_from_sheet(config['spreadsheet_id'], config['summary_name']+'!A2:A', cred_folder='../temp')\n",
    "froms = get_from_sheet(config['spreadsheet_id'], config['sheet_name']+'!A2:A', cred_folder='../temp')\n",
    "tos = get_from_sheet(config['spreadsheet_id'], config['sheet_name']+'!B2:B', cred_folder='../temp')\n",
    "dates = get_from_sheet(config['spreadsheet_id'], config['sheet_name']+'!C2:C', cred_folder='../temp')"
   ]
  },
  {
   "cell_type": "code",
   "execution_count": null,
   "metadata": {},
   "outputs": [],
   "source": [
    "froms = [from_[0] for from_ in froms]\n",
    "tos = [to[0] for to in tos]\n",
    "\n",
    "dated = [datetime.datetime.strptime(date[0], '%Y-%m-%d %H:%M:%S %Z%z').date() for date in dates]"
   ]
  },
  {
   "cell_type": "markdown",
   "metadata": {},
   "source": [
    "### Filter Dates"
   ]
  },
  {
   "cell_type": "code",
   "execution_count": null,
   "metadata": {},
   "outputs": [],
   "source": [
    "def filter_date_range(lists, dated, start, end=None):\n",
    "    filtered = []\n",
    "    for i, date in enumerate(dated):\n",
    "        if date >= start:\n",
    "            if end:\n",
    "                if date <= end:\n",
    "                    filtered.append(i)\n",
    "            else:\n",
    "                filtered.append(i)\n",
    "\n",
    "    filtered_lists = []\n",
    "    for list in lists:\n",
    "        list = [list[i] for i in filtered]\n",
    "        filtered_lists.append(list)\n",
    "\n",
    "    return filtered_lists"
   ]
  },
  {
   "cell_type": "code",
   "execution_count": null,
   "metadata": {},
   "outputs": [],
   "source": [
    "filtered = filter_date_range([froms, tos], dated, datetime.datetime(2024, 1, 1).date())"
   ]
  },
  {
   "cell_type": "markdown",
   "metadata": {},
   "source": [
    "## Compose Sankey Graph"
   ]
  },
  {
   "cell_type": "code",
   "execution_count": null,
   "metadata": {},
   "outputs": [],
   "source": [
    "def gen_sankey(froms, tos, filter_out=[]):\n",
    "    nodes = list(set(chain(froms, tos)))\n",
    "    # nodes_bicopy = list(chain(nodes, [node+'_' for node in nodes]))\n",
    "    \n",
    "    links = {}\n",
    "\n",
    "    for to_, from_ in zip(tos, froms):\n",
    "        if to_ in filter_out or from_ in filter_out:\n",
    "            continue\n",
    "        if (from_, to_) in links:\n",
    "            links[(from_, to_)] += 1\n",
    "        else:\n",
    "            links[(from_, to_)] = 1\n",
    "\n",
    "    links = [{'source': from_, 'target': to_, 'value': value} for (from_, to_), value in links.items()]\n",
    "\n",
    "    ins_accum = {}\n",
    "    outs_accum = {}\n",
    "    \n",
    "    for link in links:\n",
    "        if link['source'] not in outs_accum:\n",
    "            outs_accum[link['source']] = 0\n",
    "        if link['target'] not in ins_accum:\n",
    "            ins_accum[link['target']] = 0\n",
    "        ins_accum[link['target']] += link['value']\n",
    "        outs_accum[link['source']] += link['value']\n",
    "    \n",
    "    ins_order = sorted(list(ins_accum.items()), key=lambda x: x[1], reverse=True)\n",
    "    outs_order = sorted(list(outs_accum.items()), key=lambda x: x[1], reverse=True)\n",
    "\n",
    "    nodes_bicopy = list(chain([node+f'_({count})' for node, count in outs_order], [node+f' ({count})' for node, count in ins_order]))\n",
    "\n",
    "    xs = [0.1]*len(outs_order) + [0.9]*len(ins_order)\n",
    "    ys = list(chain(list(np.linspace(0.01, 0.99, len(outs_order))), list(np.linspace(0.01, 0.99, len(ins_order)))))\n",
    "\n",
    "\n",
    "    fig = go.Figure(data=[go.Sankey(\n",
    "        node=dict(\n",
    "            pad=15,\n",
    "            thickness=20,\n",
    "            line=dict(color=\"black\", width=0.5),\n",
    "            label=nodes_bicopy,\n",
    "            x = xs,\n",
    "            y = ys,\n",
    "            # y = list(chain(ys_out, ys_in)),\n",
    "            ),\n",
    "        link=dict(\n",
    "            source=[nodes_bicopy.index(link['source']+f\"_({outs_accum[link['source']]})\") for link in links],\n",
    "            target=[nodes_bicopy.index(link['target']+f\" ({ins_accum[link['target']]})\") for link in links],\n",
    "            value=[link['value'] for link in links]\n",
    "        ),\n",
    "        arrangement='snap'\n",
    "    )])\n",
    "\n",
    "    return fig"
   ]
  },
  {
   "cell_type": "code",
   "execution_count": null,
   "metadata": {},
   "outputs": [],
   "source": [
    "fig = gen_sankey(filtered[0], filtered[1])\n",
    "fig.update_layout(title_text=\"Thanks Bot Utilization Summary\", font_size=10, )\n",
    "fig.show()\n",
    "\n",
    "fig.write_html('sankey.html')"
   ]
  },
  {
   "cell_type": "code",
   "execution_count": null,
   "metadata": {},
   "outputs": [],
   "source": [
    "fig.write_image(\"name.svg\")"
   ]
  },
  {
   "cell_type": "code",
   "execution_count": null,
   "metadata": {},
   "outputs": [],
   "source": []
  }
 ],
 "metadata": {
  "kernelspec": {
   "display_name": "Python 3 (ipykernel)",
   "language": "python",
   "name": "python3"
  },
  "language_info": {
   "codemirror_mode": {
    "name": "ipython",
    "version": 3
   },
   "file_extension": ".py",
   "mimetype": "text/x-python",
   "name": "python",
   "nbconvert_exporter": "python",
   "pygments_lexer": "ipython3",
   "version": "3.8.18"
  }
 },
 "nbformat": 4,
 "nbformat_minor": 4
}
